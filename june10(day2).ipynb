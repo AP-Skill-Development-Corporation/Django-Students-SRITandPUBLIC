{
 "cells": [
  {
   "cell_type": "code",
   "execution_count": null,
   "metadata": {},
   "outputs": [],
   "source": [
    "class Classname:\n",
    "    statements\n",
    "    ........."
   ]
  },
  {
   "cell_type": "code",
   "execution_count": 1,
   "metadata": {},
   "outputs": [],
   "source": [
    "class Student: #class\n",
    "    def show():   #method\n",
    "        print(\"Name is: Archana\")\n",
    "        print(\"Org is: Apssdc\")"
   ]
  },
  {
   "cell_type": "code",
   "execution_count": 4,
   "metadata": {},
   "outputs": [],
   "source": [
    "#object creation\n",
    "st = Student"
   ]
  },
  {
   "cell_type": "code",
   "execution_count": 5,
   "metadata": {},
   "outputs": [
    {
     "name": "stdout",
     "output_type": "stream",
     "text": [
      "Name is: Archana\n",
      "Org is: Apssdc\n"
     ]
    }
   ],
   "source": [
    "st.show()"
   ]
  },
  {
   "cell_type": "code",
   "execution_count": 12,
   "metadata": {},
   "outputs": [],
   "source": [
    "#class with attribute and methods\n",
    "class Student1:\n",
    "    def __init__(self,sname,sroll,sbranch): \n",
    "        #self is reference variable\n",
    "        self.sname = sname\n",
    "        self.sroll = sroll\n",
    "        self.sbranch = sbranch\n",
    "    def display(self):\n",
    "        print(\"Name is:\",self.sname)\n",
    "        print(\"Roll no is:\",self.sroll)\n",
    "        print(\"Branch is:\",self.sbranch)"
   ]
  },
  {
   "cell_type": "code",
   "execution_count": 13,
   "metadata": {},
   "outputs": [],
   "source": [
    "stu = Student1('Archana','540','CSE')"
   ]
  },
  {
   "cell_type": "code",
   "execution_count": 14,
   "metadata": {},
   "outputs": [
    {
     "name": "stdout",
     "output_type": "stream",
     "text": [
      "Name is: Archana\n",
      "Roll no is: 540\n",
      "Branch is: CSE\n"
     ]
    }
   ],
   "source": [
    "stu.display()"
   ]
  },
  {
   "cell_type": "code",
   "execution_count": 33,
   "metadata": {},
   "outputs": [],
   "source": [
    "#class with attribute and methods\n",
    "class Student2:\n",
    "    sname = \"archana\"\n",
    "    sroll = 540\n",
    "    sbranch = \"cse\"\n",
    "    def display(self):\n",
    "        print(self.sname)\n",
    "        "
   ]
  },
  {
   "cell_type": "code",
   "execution_count": 36,
   "metadata": {},
   "outputs": [],
   "source": [
    "stu2 = Student2()"
   ]
  },
  {
   "cell_type": "code",
   "execution_count": 37,
   "metadata": {},
   "outputs": [
    {
     "name": "stdout",
     "output_type": "stream",
     "text": [
      "archana\n"
     ]
    }
   ],
   "source": [
    "stu2.display()"
   ]
  },
  {
   "cell_type": "code",
   "execution_count": 38,
   "metadata": {},
   "outputs": [
    {
     "name": "stdout",
     "output_type": "stream",
     "text": [
      "archana\n",
      "540\n",
      "cse\n"
     ]
    }
   ],
   "source": [
    "#class with attribute and methods\n",
    "class Student3:\n",
    "    sname = input()\n",
    "    sroll = int(input())\n",
    "    sbranch = input()\n",
    "    def display(self):\n",
    "        print(\"Name is:\",self.sname)\n",
    "        print(\"roll no is:\",self.sroll)\n",
    "        print(\"branch is:\",self.sbranch)"
   ]
  },
  {
   "cell_type": "code",
   "execution_count": 39,
   "metadata": {},
   "outputs": [],
   "source": [
    "stu3 = Student3()"
   ]
  },
  {
   "cell_type": "code",
   "execution_count": 40,
   "metadata": {},
   "outputs": [
    {
     "name": "stdout",
     "output_type": "stream",
     "text": [
      "Name is: archana\n",
      "roll no is: 540\n",
      "branch is: cse\n"
     ]
    }
   ],
   "source": [
    "stu3.display()"
   ]
  },
  {
   "cell_type": "markdown",
   "metadata": {},
   "source": [
    "### constructor\n",
    "* special method/function to inialize instance of the class\n",
    "- two types \n",
    "1. parameterized constructor \n",
    "        - constructor will have parameters\n",
    "2. non parameterized\n",
    "        - con will not have parameters\n",
    "        \n",
    "        \n",
    "- how we will create con\n",
    "    * we have one special variable to create constructor\n",
    "        - __init__\n"
   ]
  },
  {
   "cell_type": "code",
   "execution_count": 61,
   "metadata": {},
   "outputs": [],
   "source": [
    "class Basic:\n",
    "    def show()"
   ]
  },
  {
   "cell_type": "code",
   "execution_count": 41,
   "metadata": {},
   "outputs": [],
   "source": [
    "class Employee:\n",
    "    def __init__(self,name,no):\n",
    "        self.name = name\n",
    "        self.no = no\n",
    "    def show(self):\n",
    "        print(\"name is:\",self.name,\"\\nno is:\",self.no"
   ]
  },
  {
   "cell_type": "code",
   "execution_count": 46,
   "metadata": {},
   "outputs": [],
   "source": [
    "emp = Employee(\"archana\",1327)\n",
    "emp1 = Employee(\"Srikanya\",3560)"
   ]
  },
  {
   "cell_type": "code",
   "execution_count": 45,
   "metadata": {},
   "outputs": [
    {
     "name": "stdout",
     "output_type": "stream",
     "text": [
      "name is: archana \n",
      "no is: 1327\n"
     ]
    }
   ],
   "source": [
    "emp.show()"
   ]
  },
  {
   "cell_type": "code",
   "execution_count": 47,
   "metadata": {},
   "outputs": [
    {
     "name": "stdout",
     "output_type": "stream",
     "text": [
      "name is: Srikanya \n",
      "no is: 3560\n"
     ]
    }
   ],
   "source": [
    "emp1.show()"
   ]
  },
  {
   "cell_type": "code",
   "execution_count": 57,
   "metadata": {},
   "outputs": [],
   "source": [
    "#parameterized\n",
    "class Course:\n",
    "    def __init__(self,cname,cdur,ccost):\n",
    "        print(\"This is example of parameterized constructor\")\n",
    "        self.cname = cname\n",
    "        self.cdur = cdur\n",
    "        self.ccost = ccost\n",
    "    def C_Details(self):\n",
    "        print(\"Cname is:\",self.cname)\n",
    "        print(\"Cdur is\",self.cdur)\n",
    "        print(\"ccost is:\",self.ccost)"
   ]
  },
  {
   "cell_type": "code",
   "execution_count": 60,
   "metadata": {},
   "outputs": [
    {
     "name": "stdout",
     "output_type": "stream",
     "text": [
      "This is example of parameterized constructor\n",
      "Cname is: python\n",
      "Cdur is 3weeks\n",
      "ccost is: 300\n"
     ]
    }
   ],
   "source": [
    "cur = Course(\"python\",\"3weeks\",300)\n",
    "cur.C_Details()"
   ]
  },
  {
   "cell_type": "code",
   "execution_count": 62,
   "metadata": {},
   "outputs": [],
   "source": [
    "#non parameterized\n",
    "class NonParameterized:\n",
    "    def __init__(self):\n",
    "        print(\"This is example of non parameterize\")\n",
    "    def show(self,name):\n",
    "        print(\"Helloo...\",name)"
   ]
  },
  {
   "cell_type": "code",
   "execution_count": 63,
   "metadata": {},
   "outputs": [
    {
     "name": "stdout",
     "output_type": "stream",
     "text": [
      "This is example of non parameterize\n",
      "Helloo... Archana\n"
     ]
    }
   ],
   "source": [
    "example = NonParameterized()\n",
    "example.show('Archana')"
   ]
  },
  {
   "cell_type": "code",
   "execution_count": 64,
   "metadata": {},
   "outputs": [
    {
     "name": "stdout",
     "output_type": "stream",
     "text": [
      "archana\n",
      "540\n"
     ]
    }
   ],
   "source": [
    "#default \n",
    "class Student:\n",
    "    name = input()\n",
    "    roll_no = int(input())\n",
    "    def res(self):\n",
    "        print(\"name is\",self.name)"
   ]
  },
  {
   "cell_type": "code",
   "execution_count": 65,
   "metadata": {},
   "outputs": [
    {
     "name": "stdout",
     "output_type": "stream",
     "text": [
      "name is archana\n"
     ]
    }
   ],
   "source": [
    "s = Student()\n",
    "s.res()"
   ]
  },
  {
   "cell_type": "code",
   "execution_count": 69,
   "metadata": {},
   "outputs": [],
   "source": [
    "#multiple constructors\n",
    "class Multiple:\n",
    "    def __int__(self):\n",
    "        print(\"basic constructor\")\n",
    "    def __init__(self):\n",
    "        print(\"second constructor\")\n",
    "    def __init__(self):\n",
    "        print(\"last constructor\")"
   ]
  },
  {
   "cell_type": "code",
   "execution_count": 70,
   "metadata": {},
   "outputs": [
    {
     "name": "stdout",
     "output_type": "stream",
     "text": [
      "last constructor\n"
     ]
    }
   ],
   "source": [
    "m = Multiple()"
   ]
  },
  {
   "cell_type": "markdown",
   "metadata": {},
   "source": [
    "### we have built in class functions\n",
    "1. getattr(objectname,attributename) --> getting attribute value from the class\n",
    "2. setattr(obj,attributename,value) --> assigning new value to the class attribute\n",
    "3. delattr(obj,attribute) -->  it will delete the attribute from the class\n",
    "4. hasattr(obj,attributename) --> it will check the attribute is existed in the class or not"
   ]
  },
  {
   "cell_type": "code",
   "execution_count": 71,
   "metadata": {},
   "outputs": [],
   "source": [
    "class Student:\n",
    "    def __init__(self,name,roll,branch):\n",
    "        self.name = name\n",
    "        self.roll = roll\n",
    "        self.branch = branch"
   ]
  },
  {
   "cell_type": "code",
   "execution_count": 72,
   "metadata": {},
   "outputs": [],
   "source": [
    "S = Student(\"Archana\",540,\"CSE\")"
   ]
  },
  {
   "cell_type": "code",
   "execution_count": 75,
   "metadata": {},
   "outputs": [
    {
     "name": "stdout",
     "output_type": "stream",
     "text": [
      "Archana\n",
      "540\n",
      "CSE\n"
     ]
    }
   ],
   "source": [
    "#accessing attribute\n",
    "print(getattr(S,'name'))\n",
    "print(getattr(S,'roll'))\n",
    "print(getattr(S,'branch'))"
   ]
  },
  {
   "cell_type": "code",
   "execution_count": 78,
   "metadata": {},
   "outputs": [
    {
     "data": {
      "text/plain": [
       "'Anu'"
      ]
     },
     "execution_count": 78,
     "metadata": {},
     "output_type": "execute_result"
    }
   ],
   "source": [
    "setattr(S,'name','Anu')\n",
    "getattr(S,'name')"
   ]
  },
  {
   "cell_type": "code",
   "execution_count": 79,
   "metadata": {},
   "outputs": [],
   "source": [
    "delattr(S,'branch')"
   ]
  },
  {
   "cell_type": "code",
   "execution_count": 80,
   "metadata": {},
   "outputs": [
    {
     "ename": "AttributeError",
     "evalue": "'Student' object has no attribute 'branch'",
     "output_type": "error",
     "traceback": [
      "\u001b[1;31m---------------------------------------------------------------------------\u001b[0m",
      "\u001b[1;31mAttributeError\u001b[0m                            Traceback (most recent call last)",
      "\u001b[1;32m<ipython-input-80-79d5b9bea584>\u001b[0m in \u001b[0;36m<module>\u001b[1;34m\u001b[0m\n\u001b[1;32m----> 1\u001b[1;33m \u001b[0mgetattr\u001b[0m\u001b[1;33m(\u001b[0m\u001b[0mS\u001b[0m\u001b[1;33m,\u001b[0m\u001b[1;34m'branch'\u001b[0m\u001b[1;33m)\u001b[0m\u001b[1;33m\u001b[0m\u001b[1;33m\u001b[0m\u001b[0m\n\u001b[0m",
      "\u001b[1;31mAttributeError\u001b[0m: 'Student' object has no attribute 'branch'"
     ]
    }
   ],
   "source": [
    "getattr(S,'branch')"
   ]
  },
  {
   "cell_type": "code",
   "execution_count": 82,
   "metadata": {
    "scrolled": true
   },
   "outputs": [
    {
     "name": "stdout",
     "output_type": "stream",
     "text": [
      "False\n",
      "True\n"
     ]
    }
   ],
   "source": [
    "print(hasattr(S,'branch'))\n",
    "print(hasattr(S,'name'))"
   ]
  },
  {
   "cell_type": "markdown",
   "metadata": {},
   "source": [
    "#### inheritance\n",
    "    - this is imp concept in oops\n",
    "\t- to access properties of one class another class\n",
    "\t- we can access all the properties of parent class in child class\n",
    "* diff types inheritance\n",
    "1. single\n",
    "2. multiple\n",
    "3. multi_level\n",
    "4. hybrid\n",
    "5. hierarchial"
   ]
  },
  {
   "cell_type": "code",
   "execution_count": 86,
   "metadata": {},
   "outputs": [
    {
     "name": "stdout",
     "output_type": "stream",
     "text": [
      "i am from class A\n",
      "i am from class B\n"
     ]
    }
   ],
   "source": [
    "#single --> one base clas and one derived\n",
    "class A:\n",
    "    print(\"i am from class A\")\n",
    "    def python():\n",
    "        print(\"cdur is 3weeks\")\n",
    "        print(\"cost is 300\")\n",
    "class B(A):\n",
    "    print(\"i am from class B\")\n",
    "    def Django():\n",
    "        print(\"Django dur is 3weeks\")\n",
    "        print(\"Django cost is 300\")\n",
    "        "
   ]
  },
  {
   "cell_type": "code",
   "execution_count": 87,
   "metadata": {},
   "outputs": [],
   "source": [
    "cur = B"
   ]
  },
  {
   "cell_type": "code",
   "execution_count": 88,
   "metadata": {},
   "outputs": [
    {
     "name": "stdout",
     "output_type": "stream",
     "text": [
      "cdur is 3weeks\n",
      "cost is 300\n"
     ]
    }
   ],
   "source": [
    "cur.python()"
   ]
  },
  {
   "cell_type": "code",
   "execution_count": 89,
   "metadata": {},
   "outputs": [
    {
     "name": "stdout",
     "output_type": "stream",
     "text": [
      "Django dur is 3weeks\n",
      "Django cost is 300\n"
     ]
    }
   ],
   "source": [
    "cur.Django()"
   ]
  },
  {
   "cell_type": "code",
   "execution_count": 92,
   "metadata": {},
   "outputs": [],
   "source": [
    "#Multiple\n",
    "class A:\n",
    "    def a():\n",
    "        print(\"i am from class A\")\n",
    "class B(A):\n",
    "    def b():\n",
    "        print(\"i am from class b\")\n",
    "class C(B):\n",
    "    def c():\n",
    "        print(\"i am from class c\")\n",
    "        "
   ]
  },
  {
   "cell_type": "code",
   "execution_count": 93,
   "metadata": {},
   "outputs": [],
   "source": [
    "ob = C"
   ]
  },
  {
   "cell_type": "code",
   "execution_count": 94,
   "metadata": {},
   "outputs": [
    {
     "name": "stdout",
     "output_type": "stream",
     "text": [
      "i am from class A\n"
     ]
    }
   ],
   "source": [
    "ob.a()"
   ]
  },
  {
   "cell_type": "code",
   "execution_count": 95,
   "metadata": {},
   "outputs": [
    {
     "name": "stdout",
     "output_type": "stream",
     "text": [
      "i am from class b\n"
     ]
    }
   ],
   "source": [
    "ob.b()"
   ]
  },
  {
   "cell_type": "code",
   "execution_count": 96,
   "metadata": {},
   "outputs": [
    {
     "name": "stdout",
     "output_type": "stream",
     "text": [
      "i am from class c\n"
     ]
    }
   ],
   "source": [
    "ob.c()"
   ]
  },
  {
   "cell_type": "code",
   "execution_count": null,
   "metadata": {},
   "outputs": [],
   "source": []
  }
 ],
 "metadata": {
  "kernelspec": {
   "display_name": "Python 3",
   "language": "python",
   "name": "python3"
  },
  "language_info": {
   "codemirror_mode": {
    "name": "ipython",
    "version": 3
   },
   "file_extension": ".py",
   "mimetype": "text/x-python",
   "name": "python",
   "nbconvert_exporter": "python",
   "pygments_lexer": "ipython3",
   "version": "3.7.3"
  }
 },
 "nbformat": 4,
 "nbformat_minor": 2
}
